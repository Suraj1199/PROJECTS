{
 "cells": [
  {
   "cell_type": "markdown",
   "id": "pointed-tucson",
   "metadata": {},
   "source": [
    "# Using ? for docsting\n",
    "**Instead of help(), the ? character can be used as a shorthand for accessing documentation (via docstring) and other relevant information**"
   ]
  },
  {
   "cell_type": "markdown",
   "id": "equal-liberal",
   "metadata": {},
   "source": [
    "### Built-In Functions"
   ]
  },
  {
   "cell_type": "code",
   "execution_count": 3,
   "id": "ordered-selection",
   "metadata": {},
   "outputs": [],
   "source": [
    "len?"
   ]
  },
  {
   "cell_type": "markdown",
   "id": "sexual-victim",
   "metadata": {},
   "source": [
    "<span style=\"color:red\">Signature:</span>&nbsp; len(obj, /) <br>\n",
    "<span style=\"color:red\">Docstring:</span>&nbsp; Return the number of items in a container. <br>\n",
    "<span style=\"color:red\">Type:</span>&nbsp;&nbsp;&nbsp;&nbsp;&nbsp;&nbsp;&nbsp;&nbsp;&nbsp; builtin_function_or_method"
   ]
  },
  {
   "cell_type": "markdown",
   "id": "parental-bridal",
   "metadata": {},
   "source": [
    "### Objects"
   ]
  },
  {
   "cell_type": "code",
   "execution_count": 4,
   "id": "swiss-grill",
   "metadata": {},
   "outputs": [],
   "source": [
    "L = [1, 2, 3]\n",
    "L?"
   ]
  },
  {
   "cell_type": "markdown",
   "id": "large-beads",
   "metadata": {},
   "source": [
    "<span style=\"color:red\">Type:</span>&nbsp;&nbsp;&nbsp;&nbsp;&nbsp;&nbsp;&nbsp;&nbsp;&nbsp;&nbsp;&nbsp;list <br>\n",
    "<span style=\"color:red\">String form:</span>&nbsp;[1, 2, 3] <br>\n",
    "<span style=\"color:red\">Length:</span>&nbsp;&nbsp;&nbsp;&nbsp;&nbsp;&nbsp;&nbsp;&nbsp;3<br>\n",
    "<span style=\"color:red\">Docstring:</span>  <br>\n",
    "Built-in mutable sequence.<br>\n",
    "<br>\n",
    "If no argument is given, the constructor creates a new empty list.<br>\n",
    "The argument must be an iterable if specified."
   ]
  },
  {
   "cell_type": "markdown",
   "id": "skilled-attachment",
   "metadata": {},
   "source": [
    "### Methods"
   ]
  },
  {
   "cell_type": "code",
   "execution_count": 5,
   "id": "raised-examination",
   "metadata": {},
   "outputs": [],
   "source": [
    "L.insert?"
   ]
  },
  {
   "cell_type": "markdown",
   "id": "moral-fraction",
   "metadata": {},
   "source": [
    "<span style=\"color:red\">Signature:</span>&nbsp;&nbsp;L.insert(index, object, /)<br>\n",
    "<span style=\"color:red\">Docstring:</span>&nbsp;&nbsp;Insert object before index.<br>\n",
    "<span style=\"color:red\">Type:</span>&nbsp;&nbsp;&nbsp;&nbsp;&nbsp;&nbsp;&nbsp;&nbsp; builtin_function_or_method"
   ]
  },
  {
   "cell_type": "markdown",
   "id": "sporting-roads",
   "metadata": {},
   "source": [
    "### User-defined Objects and its Methods"
   ]
  },
  {
   "cell_type": "code",
   "execution_count": 6,
   "id": "psychological-producer",
   "metadata": {},
   "outputs": [],
   "source": [
    "class Math():\n",
    "    '''\n",
    "    a math object on which operations can be performed\n",
    "    '''\n",
    "    def __init__(self, number):\n",
    "        self.number = number\n",
    "    def square(self):\n",
    "        '''\n",
    "        a method of math object which squares the number\n",
    "        '''\n",
    "        return self.number ** 2"
   ]
  },
  {
   "cell_type": "markdown",
   "id": "tender-thomson",
   "metadata": {},
   "source": [
    "---"
   ]
  },
  {
   "cell_type": "code",
   "execution_count": 7,
   "id": "secondary-australia",
   "metadata": {},
   "outputs": [],
   "source": [
    "x = Math(10)\n",
    "x?"
   ]
  },
  {
   "cell_type": "markdown",
   "id": "mexican-screw",
   "metadata": {},
   "source": [
    "<span style=\"color:red\">Type:</span>        Math<br>\n",
    "<span style=\"color:red\">String form:</span> <<p>__main__.Math object at 0x7f00dc0af220><br></p>\n",
    "<span style=\"color:red\">Docstring:</span>   a math object on which operations can be performed"
   ]
  },
  {
   "cell_type": "code",
   "execution_count": 8,
   "id": "neither-bernard",
   "metadata": {},
   "outputs": [],
   "source": [
    "x.square?"
   ]
  },
  {
   "cell_type": "markdown",
   "id": "ordered-productivity",
   "metadata": {},
   "source": [
    "<span style=\"color:red\">Signature:</span>&nbsp;  x.square() <br>\n",
    "<span style=\"color:red\">Docstring:</span>&nbsp;  a method of math object which squares the number <br>\n",
    "<span style=\"color:red\">File:</span>&nbsp; &nbsp; &nbsp; &nbsp;&nbsp; &nbsp; ~/CODES/DataScience/AI_ML_DL/<ipython-input-9-e44d7944b2fd> <br>\n",
    "<span style=\"color:red\">Type:</span>&nbsp; &nbsp; &nbsp;&nbsp; &nbsp; &nbsp; method"
   ]
  },
  {
   "cell_type": "markdown",
   "id": "christian-major",
   "metadata": {},
   "source": [
    "# Using ?? for source code\n",
    "**Gain another level of insight with ??, a shortcut to readable Python source code and under-the-hood details**"
   ]
  },
  {
   "cell_type": "code",
   "execution_count": 9,
   "id": "public-cisco",
   "metadata": {},
   "outputs": [],
   "source": [
    "x.square??"
   ]
  },
  {
   "cell_type": "markdown",
   "id": "excessive-helen",
   "metadata": {},
   "source": [
    "<span style=\"color:red\">Signature:</span> x.square()<br>\n",
    "<span style=\"color:red\">Source:</span>   <br>\n",
    "&nbsp;  &nbsp;<span style=\"color:green\">def</span> square(self):<br> <span style=\"color:blue\">\n",
    "&nbsp;  &nbsp; &nbsp;  &nbsp;' ' '<br>\n",
    "&nbsp;  &nbsp; &nbsp;  &nbsp;a method of math object which squares the number<br>\n",
    "&nbsp;  &nbsp; &nbsp;  &nbsp;' ' '<br></span>\n",
    "&nbsp;  &nbsp; &nbsp;  &nbsp;<span style=\"color:green\">return</span> self.number <span style=\"color:green\">** 2<br></span>\n",
    "<span style=\"color:red\">File:</span>      ~/CODES/DataScience/AI_ML_DL/<ipython-input-9-e44d7944b2fd><br>\n",
    "<span style=\"color:red\">Type:</span>      method"
   ]
  },
  {
   "cell_type": "markdown",
   "id": "quarterly-suite",
   "metadata": {},
   "source": [
    "__NOTE :__ \n",
    "In case the source code of the object is not implemented in Python, but in C/C++ or other compiled languages then ?? suffix will give same output as ? suffix."
   ]
  },
  {
   "cell_type": "code",
   "execution_count": 10,
   "id": "expressed-darkness",
   "metadata": {},
   "outputs": [],
   "source": [
    "len??"
   ]
  },
  {
   "cell_type": "markdown",
   "id": "advanced-uzbekistan",
   "metadata": {},
   "source": [
    "<span style=\"color:red\">Signature:</span>&nbsp; len(obj, /) <br>\n",
    "<span style=\"color:red\">Docstring:</span>&nbsp; Return the number of items in a container. <br>\n",
    "<span style=\"color:red\">Type:</span>&nbsp;&nbsp;&nbsp;&nbsp;&nbsp;&nbsp;&nbsp;&nbsp;&nbsp; builtin_function_or_method"
   ]
  },
  {
   "cell_type": "markdown",
   "id": "inner-finland",
   "metadata": {},
   "source": [
    "# Using TAB key for auto completion"
   ]
  },
  {
   "cell_type": "markdown",
   "id": "saving-avatar",
   "metadata": {},
   "source": [
    "####  list . [TAB]\n",
    "#### list . ins[TAB]"
   ]
  },
  {
   "cell_type": "markdown",
   "id": "consolidated-building",
   "metadata": {},
   "source": [
    "#### import h[TAB]"
   ]
  },
  {
   "cell_type": "markdown",
   "id": "bronze-consequence",
   "metadata": {},
   "source": [
    "# Wildcard matching"
   ]
  },
  {
   "cell_type": "code",
   "execution_count": 11,
   "id": "fifty-confidentiality",
   "metadata": {},
   "outputs": [],
   "source": [
    "list.*in*?"
   ]
  },
  {
   "cell_type": "markdown",
   "id": "protected-yemen",
   "metadata": {},
   "source": [
    "<p>list.__contains__ <br>\n",
    "list.__init__ <br>\n",
    "list.__init_subclass__ <br>\n",
    "list.index <br>\n",
    "list.insert <br> </p>"
   ]
  },
  {
   "cell_type": "markdown",
   "id": "unique-seven",
   "metadata": {},
   "source": [
    "# Magic Functions \n",
    "__line magics - prefix % character to operate on single line of input<br>\n",
    "cell magics - prefix %% character to operate on multiple line of input__\n"
   ]
  },
  {
   "cell_type": "markdown",
   "id": "registered-commissioner",
   "metadata": {},
   "source": [
    "%paste&nbsp; &nbsp; -- _both enters and executes a previously copied code_ <br>\n",
    "%cpaste &nbsp;-- _opens interactive multiline prompt in which one or more chunks of code can be pasted and executed in a batch_<br>\n",
    "%run &nbsp; &nbsp; &nbsp; -- _run a .py file within the current session_<br>\n",
    "%timeit &nbsp;&nbsp; -- _determines the execution time of a python statement_<br>\n",
    "<br>\n",
    "%magic&nbsp; &nbsp; -- _general description of available magic functions_ <br>\n",
    "%lsmagic&nbsp; -- _simple list of all available magic functions_"
   ]
  },
  {
   "cell_type": "markdown",
   "id": "optional-culture",
   "metadata": {},
   "source": [
    "\n",
    "# IPython's In and Out Objects\n",
    "__IPython creates some python variables called In and Out that are automaticlly updated to reflect Input and Output history respectively__"
   ]
  },
  {
   "cell_type": "code",
   "execution_count": 1,
   "id": "elegant-hierarchy",
   "metadata": {},
   "outputs": [],
   "source": [
    "import math"
   ]
  },
  {
   "cell_type": "code",
   "execution_count": 2,
   "id": "antique-expert",
   "metadata": {},
   "outputs": [
    {
     "data": {
      "text/plain": [
       "0.6502878401571168"
      ]
     },
     "execution_count": 2,
     "metadata": {},
     "output_type": "execute_result"
    }
   ],
   "source": [
    "math.sin(15)"
   ]
  },
  {
   "cell_type": "code",
   "execution_count": 3,
   "id": "interesting-remainder",
   "metadata": {},
   "outputs": [
    {
     "data": {
      "text/plain": [
       "0.40808206181339196"
      ]
     },
     "execution_count": 3,
     "metadata": {},
     "output_type": "execute_result"
    }
   ],
   "source": [
    "math.cos(20)"
   ]
  },
  {
   "cell_type": "code",
   "execution_count": 4,
   "id": "guided-workshop",
   "metadata": {},
   "outputs": [
    {
     "data": {
      "text/plain": [
       "10.04987562112089"
      ]
     },
     "execution_count": 4,
     "metadata": {},
     "output_type": "execute_result"
    }
   ],
   "source": [
    "math.sqrt(101)"
   ]
  },
  {
   "cell_type": "markdown",
   "id": "bridal-rachel",
   "metadata": {},
   "source": [
    "<hr>"
   ]
  },
  {
   "cell_type": "code",
   "execution_count": 5,
   "id": "median-primary",
   "metadata": {},
   "outputs": [
    {
     "name": "stdout",
     "output_type": "stream",
     "text": [
      "['', 'import math', 'math.sin(15)', 'math.cos(20)', 'math.sqrt(101)', 'print(In)']\n"
     ]
    }
   ],
   "source": [
    "print(In)"
   ]
  },
  {
   "cell_type": "code",
   "execution_count": 6,
   "id": "micro-grocery",
   "metadata": {},
   "outputs": [
    {
     "data": {
      "text/plain": [
       "{2: 0.6502878401571168, 3: 0.40808206181339196, 4: 10.04987562112089}"
      ]
     },
     "execution_count": 6,
     "metadata": {},
     "output_type": "execute_result"
    }
   ],
   "source": [
    "Out"
   ]
  },
  {
   "cell_type": "markdown",
   "id": "sophisticated-signal",
   "metadata": {},
   "source": [
    "**NOTE :** <br>\n",
    "* The <span style=\"color:blue\">In</span> object is a list whereas the <span style=\"color:red\">Out</span> object is a dictionary which maps input numbers to their corresponding outputs .\n",
    "* The <code>print(..)</code> function doesn't affect the output since it returns <code>None</code> and any command that returns <code>None</code> is not added to <span style=\"color:red\">Out</span> .\n",
    "* The <code>import</code> statement also does not affect the output ."
   ]
  },
  {
   "cell_type": "code",
   "execution_count": 7,
   "id": "metallic-affairs",
   "metadata": {},
   "outputs": [
    {
     "name": "stdout",
     "output_type": "stream",
     "text": [
      "10.04987562112089\n",
      "0.40808206181339196\n",
      "0.6502878401571168\n",
      "11.108245523091398\n"
     ]
    }
   ],
   "source": [
    "print(Out[4])\n",
    "print(Out[3])\n",
    "print(Out[2])\n",
    "\n",
    "print(Out[2] + Out[3] + Out[4])"
   ]
  },
  {
   "cell_type": "markdown",
   "id": "diagnostic-cowboy",
   "metadata": {},
   "source": [
    "### Using Underscore Shortcuts"
   ]
  },
  {
   "cell_type": "code",
   "execution_count": 11,
   "id": "based-recall",
   "metadata": {},
   "outputs": [
    {
     "name": "stdout",
     "output_type": "stream",
     "text": [
      "10.04987562112089\n",
      "0.40808206181339196\n",
      "0.6502878401571168\n",
      "11.108245523091398\n"
     ]
    }
   ],
   "source": [
    "print(_4) # out[4]\n",
    "print(_3) # out[3]\n",
    "print(_2) # out[2]\n",
    "\n",
    "print(_2 + _3 + _4)"
   ]
  },
  {
   "cell_type": "code",
   "execution_count": 12,
   "id": "lovely-dining",
   "metadata": {},
   "outputs": [
    {
     "name": "stdout",
     "output_type": "stream",
     "text": [
      "10.04987562112089\n",
      "0.40808206181339196\n",
      "0.6502878401571168\n",
      "11.108245523091398\n"
     ]
    }
   ],
   "source": [
    "print(_)   # last output\n",
    "print(__)  # second-to-last output\n",
    "print(___) # third-to-last output\n",
    "\n",
    "print(_ + __ + ___)"
   ]
  },
  {
   "cell_type": "markdown",
   "id": "meaning-indianapolis",
   "metadata": {},
   "source": [
    "**NOTE :** To suppress output of a command, add semicolon(;) at the end of the line, that way the result is computed silently and the output is neither displayed on the screen nor stored in the <span style=\"color:blue\">Out</span> dictionary ."
   ]
  },
  {
   "cell_type": "markdown",
   "id": "united-difficulty",
   "metadata": {},
   "source": [
    "# Using ! for executing Shell Commands\n",
    "__A shell command appearing after ! on a line will be executed not by the Python kernel, but by the the system command line .__"
   ]
  },
  {
   "cell_type": "code",
   "execution_count": 15,
   "id": "yellow-trial",
   "metadata": {},
   "outputs": [
    {
     "name": "stdout",
     "output_type": "stream",
     "text": [
      "/home/suraz/CODES/DataScience/AI_ML_DL\r\n"
     ]
    }
   ],
   "source": [
    "!pwd"
   ]
  },
  {
   "cell_type": "code",
   "execution_count": 14,
   "id": "deadly-emission",
   "metadata": {},
   "outputs": [
    {
     "name": "stdout",
     "output_type": "stream",
     "text": [
      "total 108\r\n",
      "-rw-r--r-- 1 suraz suraz  2203 Mar 11 13:42 Data_Visualisation.ipynb\r\n",
      "-rw-r--r-- 1 suraz suraz 89753 Mar  9 11:49 First_steps_with_Keras.ipynb\r\n",
      "-rw-r--r-- 1 suraz suraz 14490 Mar 12 08:50 iPython.ipynb\r\n"
     ]
    }
   ],
   "source": [
    "!ls -l"
   ]
  },
  {
   "cell_type": "markdown",
   "id": "passing-broadcasting",
   "metadata": {},
   "source": [
    "### Passing Values FROM the Shell"
   ]
  },
  {
   "cell_type": "code",
   "execution_count": 17,
   "id": "capital-carrier",
   "metadata": {},
   "outputs": [
    {
     "data": {
      "text/plain": [
       "['Data_Visualisation.ipynb', 'First_steps_with_Keras.ipynb', 'iPython.ipynb']"
      ]
     },
     "execution_count": 17,
     "metadata": {},
     "output_type": "execute_result"
    }
   ],
   "source": [
    "files = !ls\n",
    "files"
   ]
  },
  {
   "cell_type": "markdown",
   "id": "early-laugh",
   "metadata": {},
   "source": [
    "**NOTE :** Results are not returned as lists, but as special shell return type defined in IPython"
   ]
  },
  {
   "cell_type": "code",
   "execution_count": 18,
   "id": "mounted-dublin",
   "metadata": {},
   "outputs": [
    {
     "data": {
      "text/plain": [
       "IPython.utils.text.SList"
      ]
     },
     "execution_count": 18,
     "metadata": {},
     "output_type": "execute_result"
    }
   ],
   "source": [
    "type(files)"
   ]
  },
  {
   "cell_type": "markdown",
   "id": "animated-fence",
   "metadata": {},
   "source": [
    "### Passing Values TO the Shell"
   ]
  },
  {
   "cell_type": "code",
   "execution_count": 19,
   "id": "adjusted-juice",
   "metadata": {},
   "outputs": [],
   "source": [
    "msg = \"Hello World\""
   ]
  },
  {
   "cell_type": "code",
   "execution_count": 21,
   "id": "laughing-nomination",
   "metadata": {},
   "outputs": [
    {
     "name": "stdout",
     "output_type": "stream",
     "text": [
      "Hello World\r\n"
     ]
    }
   ],
   "source": [
    "!echo {msg}"
   ]
  },
  {
   "cell_type": "markdown",
   "id": "proved-citizenship",
   "metadata": {},
   "source": [
    "**NOTE :** The shell commands in the notebook are executed in a temporary subshell so !cd cannot be used to navigate the file system. Instead <code>%cd</code> will work. "
   ]
  },
  {
   "cell_type": "code",
   "execution_count": 28,
   "id": "seventh-facing",
   "metadata": {},
   "outputs": [
    {
     "name": "stdout",
     "output_type": "stream",
     "text": [
      "/home/suraz/CODES/DataScience\r\n"
     ]
    }
   ],
   "source": [
    "# NOT WORKING\n",
    "!pwd\n",
    "!cd .."
   ]
  },
  {
   "cell_type": "code",
   "execution_count": 29,
   "id": "banned-kansas",
   "metadata": {},
   "outputs": [
    {
     "name": "stdout",
     "output_type": "stream",
     "text": [
      "/home/suraz/CODES/DataScience\n",
      "/home/suraz/CODES\n"
     ]
    }
   ],
   "source": [
    "# WORKING\n",
    "!pwd\n",
    "%cd .."
   ]
  },
  {
   "cell_type": "markdown",
   "id": "particular-waters",
   "metadata": {},
   "source": [
    "**NOTE :** Other shell commands can either be used with ! prefix or % prefix as magic commands."
   ]
  },
  {
   "cell_type": "code",
   "execution_count": 33,
   "id": "premier-integrity",
   "metadata": {},
   "outputs": [
    {
     "data": {
      "text/plain": [
       "'/home/suraz/CODES'"
      ]
     },
     "execution_count": 33,
     "metadata": {},
     "output_type": "execute_result"
    }
   ],
   "source": [
    "%pwd"
   ]
  },
  {
   "cell_type": "code",
   "execution_count": 34,
   "id": "small-dancing",
   "metadata": {},
   "outputs": [
    {
     "name": "stdout",
     "output_type": "stream",
     "text": [
      "\u001b[0m\u001b[01;34mC\u001b[0m/  \u001b[01;34mC++\u001b[0m/  \u001b[01;34mDataScience\u001b[0m/  \u001b[01;34mJava\u001b[0m/  \u001b[01;34mPython\u001b[0m/  \u001b[01;34mWebDev\u001b[0m/\r\n"
     ]
    }
   ],
   "source": [
    "%ls"
   ]
  },
  {
   "cell_type": "markdown",
   "id": "steady-dinner",
   "metadata": {},
   "source": [
    "## Automagic Function\n",
    "**The shell commands can be used without % prefix. This is known as automagic function and this behaviour can be toggled with <code>%automagic</code> magic function.**"
   ]
  },
  {
   "cell_type": "code",
   "execution_count": 38,
   "id": "central-rental",
   "metadata": {},
   "outputs": [
    {
     "name": "stdout",
     "output_type": "stream",
     "text": [
      "\n",
      "Automagic is ON, % prefix IS NOT needed for line magics.\n"
     ]
    }
   ],
   "source": [
    "%automagic"
   ]
  },
  {
   "cell_type": "code",
   "execution_count": 35,
   "id": "stopped-community",
   "metadata": {},
   "outputs": [
    {
     "data": {
      "text/plain": [
       "'/home/suraz/CODES'"
      ]
     },
     "execution_count": 35,
     "metadata": {},
     "output_type": "execute_result"
    }
   ],
   "source": [
    "pwd"
   ]
  },
  {
   "cell_type": "code",
   "execution_count": 36,
   "id": "alternative-bridge",
   "metadata": {},
   "outputs": [
    {
     "name": "stdout",
     "output_type": "stream",
     "text": [
      "\u001b[0m\u001b[01;34mC\u001b[0m/  \u001b[01;34mC++\u001b[0m/  \u001b[01;34mDataScience\u001b[0m/  \u001b[01;34mJava\u001b[0m/  \u001b[01;34mPython\u001b[0m/  \u001b[01;34mWebDev\u001b[0m/\r\n"
     ]
    }
   ],
   "source": [
    "ls"
   ]
  },
  {
   "cell_type": "markdown",
   "id": "human-tampa",
   "metadata": {},
   "source": [
    "<hr>"
   ]
  },
  {
   "cell_type": "markdown",
   "id": "narrative-blackjack",
   "metadata": {},
   "source": [
    "# TODO\n",
    ">## Debugging with %xmode\n",
    ">## Profiling and Timing Code\n",
    ">## Expore IPython Resources"
   ]
  },
  {
   "cell_type": "markdown",
   "id": "according-dancing",
   "metadata": {},
   "source": []
  },
  {
   "cell_type": "markdown",
   "id": "isolated-albert",
   "metadata": {},
   "source": []
  },
  {
   "cell_type": "code",
   "execution_count": 1,
   "id": "thirty-judges",
   "metadata": {},
   "outputs": [
    {
     "data": {
      "text/plain": [
       "array([   0,    1,    2, ..., 9997, 9998, 9999])"
      ]
     },
     "execution_count": 1,
     "metadata": {},
     "output_type": "execute_result"
    }
   ],
   "source": [
    "import numpy as np\n",
    "x = np.arange(10000)\n",
    "x"
   ]
  },
  {
   "cell_type": "code",
   "execution_count": 2,
   "id": "returning-eleven",
   "metadata": {},
   "outputs": [
    {
     "name": "stdout",
     "output_type": "stream",
     "text": [
      "17.6 µs ± 344 ns per loop (mean ± std. dev. of 7 runs, 100000 loops each)\n"
     ]
    }
   ],
   "source": [
    "%timeit np.multiply.reduce(x)"
   ]
  },
  {
   "cell_type": "code",
   "execution_count": 3,
   "id": "equipped-number",
   "metadata": {},
   "outputs": [
    {
     "name": "stdout",
     "output_type": "stream",
     "text": [
      "4.82 ms ± 190 µs per loop (mean ± std. dev. of 7 runs, 100 loops each)\n"
     ]
    }
   ],
   "source": [
    "%%timeit\n",
    "s = 1\n",
    "for i in range(len(x)):\n",
    "    s *= x[i]\n",
    "s"
   ]
  },
  {
   "cell_type": "code",
   "execution_count": null,
   "id": "suited-concern",
   "metadata": {},
   "outputs": [],
   "source": []
  }
 ],
 "metadata": {
  "kernelspec": {
   "display_name": "Python 3",
   "language": "python",
   "name": "python3"
  },
  "language_info": {
   "codemirror_mode": {
    "name": "ipython",
    "version": 3
   },
   "file_extension": ".py",
   "mimetype": "text/x-python",
   "name": "python",
   "nbconvert_exporter": "python",
   "pygments_lexer": "ipython3",
   "version": "3.8.0"
  }
 },
 "nbformat": 4,
 "nbformat_minor": 5
}
