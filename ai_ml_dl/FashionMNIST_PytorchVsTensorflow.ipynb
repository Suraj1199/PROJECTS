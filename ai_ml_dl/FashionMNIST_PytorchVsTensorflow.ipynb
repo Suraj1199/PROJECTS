{
  "nbformat": 4,
  "nbformat_minor": 0,
  "metadata": {
    "colab": {
      "name": "FashionMNIST_PytorchVsTensorflow.ipynb",
      "provenance": [],
      "collapsed_sections": []
    },
    "kernelspec": {
      "name": "python3",
      "display_name": "Python 3"
    },
    "language_info": {
      "name": "python"
    }
  },
  "cells": [
    {
      "cell_type": "code",
      "metadata": {
        "id": "YuMwycMb33vw"
      },
      "source": [
        "import numpy as np\n",
        "import matplotlib.pyplot as plt\n",
        "%matplotlib inline "
      ],
      "execution_count": 12,
      "outputs": []
    },
    {
      "cell_type": "code",
      "metadata": {
        "id": "fNwAIrh94tAL"
      },
      "source": [
        "# LOADING DATA - Fashion MNIST\n",
        "# DataSet class for PyTorch and tf.data for TensorFlow."
      ],
      "execution_count": 13,
      "outputs": []
    },
    {
      "cell_type": "markdown",
      "metadata": {
        "id": "aAF6Duiu6iDe"
      },
      "source": [
        "# Pytorch"
      ]
    },
    {
      "cell_type": "code",
      "metadata": {
        "id": "0IE1NaCj6k8c"
      },
      "source": [
        "import torch\n",
        "import torch.nn as nn\n",
        "import torchvision\n",
        "import torchvision.transforms as transforms"
      ],
      "execution_count": 14,
      "outputs": []
    },
    {
      "cell_type": "code",
      "metadata": {
        "id": "dzQQqeNj7GT4"
      },
      "source": [
        "# create the transformer for put the data to the tensor\n",
        "transforms = transforms.Compose([\n",
        "    transforms.ToTensor()\n",
        "])\n",
        "\n",
        "# load the train data - if not exists download it\n",
        "train_dataset_py = torchvision.datasets.FashionMNIST(root='/content/drive/My Drive/article/data/',\n",
        "                                             train=True, \n",
        "                                             transform=transforms,\n",
        "                                             download=True)\n",
        "\n",
        "test_dataset_py = torchvision.datasets.FashionMNIST(root='/content/drive/My Drive/article/data/',\n",
        "                                             train=False, \n",
        "                                             transform=transforms,\n",
        "                                             download=True)\n"
      ],
      "execution_count": 15,
      "outputs": []
    },
    {
      "cell_type": "code",
      "metadata": {
        "id": "GqMrsAe87H6j"
      },
      "source": [
        "def imshowPytorch(img):\n",
        "    npimg = img.numpy()\n",
        "    plt.imshow(np.transpose(npimg, (1, 2, 0)))"
      ],
      "execution_count": 16,
      "outputs": []
    },
    {
      "cell_type": "code",
      "metadata": {
        "colab": {
          "base_uri": "https://localhost:8080/",
          "height": 282
        },
        "id": "ZMCoBTZW7IDH",
        "outputId": "4bb2f45d-f137-420c-c343-29b25241f63e"
      },
      "source": [
        "# create a data loader - I will use it for the training\n",
        "train_loader = torch.utils.data.DataLoader(dataset=train_dataset_py,\n",
        "                                           batch_size=32, \n",
        "                                           shuffle=False)\n",
        "test_loader = torch.utils.data.DataLoader(dataset=test_dataset_py,\n",
        "                                           batch_size=32, \n",
        "                                           shuffle=False)\n",
        "                                           \n",
        "data_iter = iter(train_loader)\n",
        "images, label = data_iter.next()\n",
        "imshowPytorch(torchvision.utils.make_grid(images[0]))\n",
        "print(label[0])"
      ],
      "execution_count": 17,
      "outputs": [
        {
          "output_type": "stream",
          "text": [
            "tensor(9)\n"
          ],
          "name": "stdout"
        },
        {
          "output_type": "display_data",
          "data": {
            "image/png": "[encoded data removed]",
            "text/plain": [
              "<Figure size 432x288 with 1 Axes>"
            ]
          },
          "metadata": {
            "tags": [],
            "needs_background": "light"
          }
        }
      ]
    },
    {
      "cell_type": "code",
      "metadata": {
        "id": "n0LBpeby7IHB"
      },
      "source": [
        "# For PyTorch, we also have two modes of the model: train and production. \n",
        "# To put the model in the production mode, we just have to use method .eval() \n",
        "# Once the model is in the production mode, some methods will be turned off automatically, such as dropout.\n",
        "# To move it to the training mode, we have to use method .train() as train is the default mode.\n",
        "\n",
        "class NeuralNet(nn.Module):\n",
        "    def __init__(self, num_of_class):\n",
        "        super(NeuralNet, self).__init__()\n",
        "        self.layer1 = nn.Sequential(\n",
        "            nn.Conv2d(1, 16, kernel_size=5, stride=1, padding=2),\n",
        "            nn.BatchNorm2d(16),\n",
        "            nn.ReLU(),\n",
        "            nn.MaxPool2d(kernel_size=2, stride=2))\n",
        "        self.layer2 = nn.Sequential(\n",
        "            nn.Conv2d(16, 32, kernel_size=5, stride=1, padding=2),\n",
        "            nn.BatchNorm2d(32),\n",
        "            nn.ReLU(),\n",
        "            nn.MaxPool2d(kernel_size=2, stride=2))\n",
        "        self.fc = nn.Linear(7 * 7 * 32, num_of_class)\n",
        "\n",
        "    def forward(self, x):\n",
        "        out = self.layer1(x)\n",
        "        out = self.layer2(out)\n",
        "        out = out.reshape(out.size(0), -1)\n",
        "        out = self.fc(out)\n",
        "        return out"
      ],
      "execution_count": 18,
      "outputs": []
    },
    {
      "cell_type": "code",
      "metadata": {
        "colab": {
          "base_uri": "https://localhost:8080/"
        },
        "id": "1CNWq0ws7IKK",
        "outputId": "eff96028-f7d4-42ad-a3bc-cb6f0424093c"
      },
      "source": [
        "modelpy = NeuralNet(10)\n",
        "criterion = nn.CrossEntropyLoss()\n",
        "optim = torch.optim.Adam(modelpy.parameters())\n",
        "\n",
        "modelpy"
      ],
      "execution_count": 19,
      "outputs": [
        {
          "output_type": "execute_result",
          "data": {
            "text/plain": [
              "NeuralNet(\n",
              "  (layer1): Sequential(\n",
              "    (0): Conv2d(1, 16, kernel_size=(5, 5), stride=(1, 1), padding=(2, 2))\n",
              "    (1): BatchNorm2d(16, eps=1e-05, momentum=0.1, affine=True, track_running_stats=True)\n",
              "    (2): ReLU()\n",
              "    (3): MaxPool2d(kernel_size=2, stride=2, padding=0, dilation=1, ceil_mode=False)\n",
              "  )\n",
              "  (layer2): Sequential(\n",
              "    (0): Conv2d(16, 32, kernel_size=(5, 5), stride=(1, 1), padding=(2, 2))\n",
              "    (1): BatchNorm2d(32, eps=1e-05, momentum=0.1, affine=True, track_running_stats=True)\n",
              "    (2): ReLU()\n",
              "    (3): MaxPool2d(kernel_size=2, stride=2, padding=0, dilation=1, ceil_mode=False)\n",
              "  )\n",
              "  (fc): Linear(in_features=1568, out_features=10, bias=True)\n",
              ")"
            ]
          },
          "metadata": {
            "tags": []
          },
          "execution_count": 19
        }
      ]
    },
    {
      "cell_type": "code",
      "metadata": {
        "colab": {
          "base_uri": "https://localhost:8080/"
        },
        "id": "CwEcoNm_7IWL",
        "outputId": "ab377f7f-1faf-44a0-887f-60fe77b15014"
      },
      "source": [
        "%%time\n",
        "for e in range(10):\n",
        "    # define the loss value after the epoch\n",
        "    losss = 0.0\n",
        "    number_of_sub_epoch = 0\n",
        "    \n",
        "    # loop for every training batch (one epoch)\n",
        "    for images, labels in train_loader:\n",
        "        #create the output from the network\n",
        "        out = modelpy(images)\n",
        "        # count the loss function\n",
        "        loss = criterion(out, labels)\n",
        "        # in pytorch you have assign the zero for gradient in any sub epoch\n",
        "        optim.zero_grad()\n",
        "        # count the backpropagation\n",
        "        loss.backward()\n",
        "        # learning\n",
        "        optim.step()\n",
        "        # add new value to the main loss\n",
        "        losss += loss.item()\n",
        "        number_of_sub_epoch += 1\n",
        "    print(\"step {}: loss: {}\".format(e, losss / number_of_sub_epoch))"
      ],
      "execution_count": 20,
      "outputs": [
        {
          "output_type": "stream",
          "text": [
            "step 0: loss: 0.3918272654871146\n",
            "step 1: loss: 0.27888995291193325\n",
            "step 2: loss: 0.24272490561505158\n",
            "step 3: loss: 0.21789499317804972\n",
            "step 4: loss: 0.19831469341715177\n",
            "step 5: loss: 0.18189357936282952\n",
            "step 6: loss: 0.16647196079740922\n",
            "step 7: loss: 0.1541275581859052\n",
            "step 8: loss: 0.14233158792952696\n",
            "step 9: loss: 0.13096408621097605\n",
            "CPU times: user 8min 57s, sys: 6.28 s, total: 9min 3s\n",
            "Wall time: 9min 3s\n"
          ],
          "name": "stdout"
        }
      ]
    },
    {
      "cell_type": "code",
      "metadata": {
        "id": "pOMRmimzHteq"
      },
      "source": [
        "correct = 0\n",
        "total = 0\n",
        "modelpy.eval()\n",
        "for images, labels in test_loader:\n",
        "    outputs = modelpy(images)\n",
        "    _, predicted = torch.max(outputs.data, 1)\n",
        "    total += labels.size(0)\n",
        "    correct += (predicted == labels).sum()\n",
        "print('Test Accuracy of the model on the {} test images: {}%'.format(total, 100 * correct / total))"
      ],
      "execution_count": null,
      "outputs": []
    },
    {
      "cell_type": "code",
      "metadata": {
        "id": "8ax-uJzfHtmW"
      },
      "source": [
        "# save the models.\n",
        "torch.save(modelpy, \"/content/drive/My Drive/article/model.pt\")"
      ],
      "execution_count": null,
      "outputs": []
    },
    {
      "cell_type": "code",
      "metadata": {
        "id": "uhbyA8MgIH0y"
      },
      "source": [
        "# load the model:\n",
        "model_load_py = torch.load(\"/content/drive/My Drive/article/model.pt\")\n",
        "model_load_py"
      ],
      "execution_count": null,
      "outputs": []
    },
    {
      "cell_type": "code",
      "metadata": {
        "id": "OHHpY34yINzo"
      },
      "source": [
        "# check if the model was saved with the weight \n",
        "correct = 0\n",
        "total = 0\n",
        "for images, labels in test_loader:\n",
        "    outputs = model_load_py(images)\n",
        "    _, predicted = torch.max(outputs.data, 1)\n",
        "    total += labels.size(0)\n",
        "    correct += (predicted == labels).sum()\n",
        "print('Test Accuracy of the model on the {} test images: {}%'.format(total, 100 * correct / total))"
      ],
      "execution_count": null,
      "outputs": []
    },
    {
      "cell_type": "markdown",
      "metadata": {
        "id": "koUGS7vB6ldt"
      },
      "source": [
        "# Tensorflow"
      ]
    },
    {
      "cell_type": "code",
      "metadata": {
        "id": "iVji09qq6-nn"
      },
      "source": [
        "import tensorflow as tf\n",
        "from tensorflow import keras"
      ],
      "execution_count": 4,
      "outputs": []
    },
    {
      "cell_type": "code",
      "metadata": {
        "colab": {
          "base_uri": "https://localhost:8080/"
        },
        "id": "ZzUjexyM7JgM",
        "outputId": "cac6890e-88ea-45c0-e6f6-c879aff58fd8"
      },
      "source": [
        "# Load the data set\n",
        "fashion_mnist = keras.datasets.fashion_mnist\n",
        "\n",
        "#split to test and train\n",
        "(train_images_tf, train_labels_tf), (test_images_tf, test_labels_tf) = fashion_mnist.load_data()"
      ],
      "execution_count": 7,
      "outputs": [
        {
          "output_type": "stream",
          "text": [
            "Downloading data from https://storage.googleapis.com/tensorflow/tf-keras-datasets/train-labels-idx1-ubyte.gz\n",
            "32768/29515 [=================================] - 0s 0us/step\n",
            "Downloading data from https://storage.googleapis.com/tensorflow/tf-keras-datasets/train-images-idx3-ubyte.gz\n",
            "26427392/26421880 [==============================] - 0s 0us/step\n",
            "Downloading data from https://storage.googleapis.com/tensorflow/tf-keras-datasets/t10k-labels-idx1-ubyte.gz\n",
            "8192/5148 [===============================================] - 0s 0us/step\n",
            "Downloading data from https://storage.googleapis.com/tensorflow/tf-keras-datasets/t10k-images-idx3-ubyte.gz\n",
            "4423680/4422102 [==============================] - 0s 0us/step\n"
          ],
          "name": "stdout"
        }
      ]
    },
    {
      "cell_type": "code",
      "metadata": {
        "id": "75Sc6q6B7Jir"
      },
      "source": [
        "train_images_tf = train_images_tf / 255.0\n",
        "test_images_tf = test_images_tf / 255.0"
      ],
      "execution_count": 8,
      "outputs": []
    },
    {
      "cell_type": "code",
      "metadata": {
        "id": "6e_Q3n8l7Jk_"
      },
      "source": [
        "def imshowTensorFlow(img):\n",
        "  plt.imshow(img)"
      ],
      "execution_count": 10,
      "outputs": []
    },
    {
      "cell_type": "code",
      "metadata": {
        "id": "u6DnztVj7Jna"
      },
      "source": [
        "imshowTensorFlow(train_images_tf[0])\n",
        "\n",
        "print(train_labels_tf[0])"
      ],
      "execution_count": null,
      "outputs": []
    },
    {
      "cell_type": "code",
      "metadata": {
        "id": "_yfsueyA7JpH"
      },
      "source": [
        "modeltf = keras.Sequential([\n",
        "    keras.layers.Conv2D(input_shape=(28,28,1), filters=16, kernel_size=5, strides=1, padding=\"same\", activation=tf.nn.relu),\n",
        "    keras.layers.BatchNormalization(), \n",
        "    keras.layers.MaxPooling2D(pool_size=2, strides=2),\n",
        "    keras.layers.Conv2D(32, kernel_size=5, strides=1, padding=\"same\", activation=tf.nn.relu),\n",
        "    keras.layers.BatchNormalization(), \n",
        "    keras.layers.MaxPooling2D(pool_size=2, strides=2),\n",
        "    keras.layers.Flatten(),\n",
        "    keras.layers.Dense(10, activation=tf.nn.softmax)\n",
        "])"
      ],
      "execution_count": null,
      "outputs": []
    },
    {
      "cell_type": "code",
      "metadata": {
        "id": "djH_LEhiFR0g"
      },
      "source": [
        "modeltf.compile(optimizer=keras.optimizers.Adam(), \n",
        "              loss='sparse_categorical_crossentropy',\n",
        "              metrics=['accuracy'])\n",
        "modeltf.summary()"
      ],
      "execution_count": null,
      "outputs": []
    },
    {
      "cell_type": "code",
      "metadata": {
        "id": "rRGv1OzTG2iY"
      },
      "source": [
        "# Because Fashion MNIST in TensorFlow is an array with only two dimensions, \n",
        "# we have to add the number of channels (in our case it’s just one):\n",
        "\n",
        "train_images_tf = train_images_tf.reshape(train_images_tf.shape[0], \n",
        "                                          train_images_tf.shape[1],\n",
        "                                          train_images_tf.shape[2], 1)\n",
        " %%time\n",
        "modeltf.fit(train_images_tf, train_labels_tf, epochs=10, batch_size=32)"
      ],
      "execution_count": null,
      "outputs": []
    },
    {
      "cell_type": "code",
      "metadata": {
        "id": "XgRbn4tKFR_5"
      },
      "source": [
        "test_images_tf = test_images_tf.reshape(test_images_tf.shape[0],\n",
        "                                        test_images_tf.shape[1],\n",
        "                                        test_images_tf.shape[2], 1)\n",
        "predictions = modeltf.predict(test_images_tf)\n",
        "correct = 0\n",
        "for i, pred in enumerate(predictions):\n",
        "  if np.argmax(pred) == test_labels_tf[i]:\n",
        "    correct += 1\n",
        "print('Test Accuracy of the model on the {} test images: {}%'.format(test_images_tf.shape[0],\n",
        "                                                                     100 * correct/test_images_tf.shape[0]))\n"
      ],
      "execution_count": null,
      "outputs": []
    },
    {
      "cell_type": "code",
      "metadata": {
        "id": "74REe6bOFSCV"
      },
      "source": [
        "# another way of inference\n",
        "test_loss, test_acc = modeltf.evaluate(test_images_tf, test_labels_tf)\n",
        "print('Test accuracy:', test_acc)"
      ],
      "execution_count": null,
      "outputs": []
    },
    {
      "cell_type": "code",
      "metadata": {
        "id": "WyJSFjgvIV6o"
      },
      "source": [
        "# save the model \n",
        "modeltf.save('modeltf.h5')"
      ],
      "execution_count": null,
      "outputs": []
    },
    {
      "cell_type": "code",
      "metadata": {
        "id": "qx_5-zmaIbr9"
      },
      "source": [
        "# load the model\n",
        "model_load_tf = tf.keras.models.load_model('modeltf.h5')\n",
        "model_load_tf.summary()\n",
        "test_loss, test_acc = model_load_tf.evaluate(test_images_tf, test_labels_tf)\n",
        "print('Test accuracy:', test_acc)"
      ],
      "execution_count": null,
      "outputs": []
    },
    {
      "cell_type": "markdown",
      "metadata": {
        "id": "9Knk0m8YIomj"
      },
      "source": [
        "# In summary\n",
        "<hr>\n",
        "\n",
        "**Tensorflow**\n",
        ">Pros:\n",
        "* Simple built-in high level API\n",
        "* Tensorboard (easy to use visualisation tool)\n",
        "* Simple serving method on production\n",
        "* Very good documentation\n",
        "* Easy mobile support\n",
        "\n",
        ">Cons:\n",
        "* Static graph\n",
        "* Debugging method\n",
        "* Hard to make quick changes\n",
        "<hr>\n",
        "\n",
        "**Pytorch**\n",
        ">Pros:\n",
        "* Python-like coding\n",
        "* Dynamic graph\n",
        "* Easy & quick editing\n",
        "* Very good documentation available\n",
        "* Plenty of projects out there which use Pytorch\n",
        "\n",
        ">Cons:\n",
        "* Third party needed for visualisation\n",
        "* API knowledge needed in Python to move to production\n",
        "<hr>"
      ]
    },
    {
      "cell_type": "code",
      "metadata": {
        "id": "FDctpY2dJSE8"
      },
      "source": [
        ""
      ],
      "execution_count": null,
      "outputs": []
    }
  ]
}